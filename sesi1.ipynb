{
  "nbformat": 4,
  "nbformat_minor": 0,
  "metadata": {
    "colab": {
      "name": "Untitled0.ipynb",
      "provenance": []
    },
    "kernelspec": {
      "name": "python3",
      "display_name": "Python 3"
    },
    "language_info": {
      "name": "python"
    }
  },
  "cells": [
    {
      "cell_type": "markdown",
      "metadata": {
        "id": "5bb3YxfQM05B"
      },
      "source": [
        " # H8 Data Science Python 1st Section"
      ]
    },
    {
      "cell_type": "markdown",
      "metadata": {
        "id": "D3bQ-R6jNH3f"
      },
      "source": [
        "Integer"
      ]
    },
    {
      "cell_type": "code",
      "metadata": {
        "colab": {
          "base_uri": "https://localhost:8080/"
        },
        "id": "5brWfQycMxmU",
        "outputId": "b63a9783-c427-4d77-c813-bf01d1c510a6"
      },
      "source": [
        "print(123123123123123123123123123123123123123123123123 + 1)\n"
      ],
      "execution_count": 1,
      "outputs": [
        {
          "output_type": "stream",
          "text": [
            "123123123123123123123123123123123123123123123124\n"
          ],
          "name": "stdout"
        }
      ]
    },
    {
      "cell_type": "code",
      "metadata": {
        "colab": {
          "base_uri": "https://localhost:8080/"
        },
        "id": "HY13gvaBNKhH",
        "outputId": "f5fcd18e-5e37-4912-f060-9e243aca0d93"
      },
      "source": [
        "# Python interprets a sequence of decimal digits without any prefix to be a decimal number:\n",
        "\n",
        "print(10)\n",
        "print(type(10))"
      ],
      "execution_count": 2,
      "outputs": [
        {
          "output_type": "stream",
          "text": [
            "10\n",
            "<class 'int'>\n"
          ],
          "name": "stdout"
        }
      ]
    },
    {
      "cell_type": "code",
      "metadata": {
        "colab": {
          "base_uri": "https://localhost:8080/"
        },
        "id": "VTfuOgHpNLfj",
        "outputId": "74e22e33-0ba0-4c58-e0d3-574974270d4a"
      },
      "source": [
        "print(4.2)\n",
        "print(type(4.2))\n",
        "\n",
        "print(4.)\n",
        "\n",
        "print(.2)\n",
        "\n",
        "print(.4e7)\n",
        "\n",
        "print(4.2e-4)"
      ],
      "execution_count": 3,
      "outputs": [
        {
          "output_type": "stream",
          "text": [
            "4.2\n",
            "<class 'float'>\n",
            "4.0\n",
            "0.2\n",
            "4000000.0\n",
            "0.00042\n"
          ],
          "name": "stdout"
        }
      ]
    },
    {
      "cell_type": "markdown",
      "metadata": {
        "id": "XjaLQ8G3NYQC"
      },
      "source": [
        "String"
      ]
    },
    {
      "cell_type": "code",
      "metadata": {
        "colab": {
          "base_uri": "https://localhost:8080/"
        },
        "id": "4bc9QFJ9NLnH",
        "outputId": "59fb3bb6-5fe3-4e2d-cef7-19ba096c0b5e"
      },
      "source": [
        "print(\"Hacktiv8\")\n",
        "print(type(\"Hacktiv8\"))"
      ],
      "execution_count": 4,
      "outputs": [
        {
          "output_type": "stream",
          "text": [
            "Hacktiv8\n",
            "<class 'str'>\n"
          ],
          "name": "stdout"
        }
      ]
    },
    {
      "cell_type": "code",
      "metadata": {
        "colab": {
          "base_uri": "https://localhost:8080/"
        },
        "id": "CSocO4HLNeF7",
        "outputId": "321831a3-aa1b-4762-ab0d-226e1ce39fb9"
      },
      "source": [
        "print('')"
      ],
      "execution_count": 5,
      "outputs": [
        {
          "output_type": "stream",
          "text": [
            "\n"
          ],
          "name": "stdout"
        }
      ]
    },
    {
      "cell_type": "code",
      "metadata": {
        "colab": {
          "base_uri": "https://localhost:8080/"
        },
        "id": "YdH6bYitNeNR",
        "outputId": "dd3e352b-ed8d-4b46-c834-c6c0e05e2600"
      },
      "source": [
        "print(\"This string contains a single quote (') character.\")\n",
        "\n",
        "print('This string contains a double quote (\") character.')"
      ],
      "execution_count": 6,
      "outputs": [
        {
          "output_type": "stream",
          "text": [
            "This string contains a single quote (') character.\n",
            "This string contains a double quote (\") character.\n"
          ],
          "name": "stdout"
        }
      ]
    },
    {
      "cell_type": "markdown",
      "metadata": {
        "id": "b7cmYQf-Nuzb"
      },
      "source": [
        "Bolean"
      ]
    },
    {
      "cell_type": "code",
      "metadata": {
        "colab": {
          "base_uri": "https://localhost:8080/"
        },
        "id": "6uRRO42oNlX0",
        "outputId": "e46eb5f3-7a37-4202-d6c9-d271900cf774"
      },
      "source": [
        "print(type(True))\n",
        "\n",
        "print(type(False))"
      ],
      "execution_count": 7,
      "outputs": [
        {
          "output_type": "stream",
          "text": [
            "<class 'bool'>\n",
            "<class 'bool'>\n"
          ],
          "name": "stdout"
        }
      ]
    },
    {
      "cell_type": "code",
      "metadata": {
        "id": "DYbjdM2DNw3R"
      },
      "source": [
        "n = 300"
      ],
      "execution_count": 8,
      "outputs": []
    },
    {
      "cell_type": "code",
      "metadata": {
        "colab": {
          "base_uri": "https://localhost:8080/"
        },
        "id": "RB0WEVeSNxA6",
        "outputId": "c39d7868-4cd2-43ad-968f-88af609dff25"
      },
      "source": [
        "print(n)"
      ],
      "execution_count": 9,
      "outputs": [
        {
          "output_type": "stream",
          "text": [
            "300\n"
          ],
          "name": "stdout"
        }
      ]
    },
    {
      "cell_type": "code",
      "metadata": {
        "colab": {
          "base_uri": "https://localhost:8080/"
        },
        "id": "hxhymn2dN9Z5",
        "outputId": "dec51608-6a49-4a87-a6a8-bbd8e3701176"
      },
      "source": [
        "n"
      ],
      "execution_count": 10,
      "outputs": [
        {
          "output_type": "execute_result",
          "data": {
            "text/plain": [
              "300"
            ]
          },
          "metadata": {
            "tags": []
          },
          "execution_count": 10
        }
      ]
    },
    {
      "cell_type": "code",
      "metadata": {
        "colab": {
          "base_uri": "https://localhost:8080/"
        },
        "id": "h3PMZawrOAZR",
        "outputId": "bf2c44d2-6753-4661-95c4-7439aac53a41"
      },
      "source": [
        "\n",
        "# Later, if you change the value of n and use it again, the new value will be substituted instead:\n",
        "\n",
        "n = 1000\n",
        "print(n)\n",
        "\n",
        "n"
      ],
      "execution_count": 11,
      "outputs": [
        {
          "output_type": "stream",
          "text": [
            "1000\n"
          ],
          "name": "stdout"
        },
        {
          "output_type": "execute_result",
          "data": {
            "text/plain": [
              "1000"
            ]
          },
          "metadata": {
            "tags": []
          },
          "execution_count": 11
        }
      ]
    },
    {
      "cell_type": "code",
      "metadata": {
        "colab": {
          "base_uri": "https://localhost:8080/"
        },
        "id": "Fpoa2Z-BOH3O",
        "outputId": "ef97f7a6-8072-4830-b84d-dda38789686a"
      },
      "source": [
        "a = b = c = 300\n",
        "print(a, b, c)"
      ],
      "execution_count": 12,
      "outputs": [
        {
          "output_type": "stream",
          "text": [
            "300 300 300\n"
          ],
          "name": "stdout"
        }
      ]
    },
    {
      "cell_type": "markdown",
      "metadata": {
        "id": "3pLsvkrOORbs"
      },
      "source": [
        "Variable type data"
      ]
    },
    {
      "cell_type": "code",
      "metadata": {
        "colab": {
          "base_uri": "https://localhost:8080/"
        },
        "id": "5_jJQwDHOQn2",
        "outputId": "ae1f05a1-2ede-4b54-feb0-f340da7da1ad"
      },
      "source": [
        "var = 23.5\n",
        "print(var)\n",
        "\n",
        "var = \"Now I'm a string\"\n",
        "print(var)"
      ],
      "execution_count": 13,
      "outputs": [
        {
          "output_type": "stream",
          "text": [
            "23.5\n",
            "Now I'm a string\n"
          ],
          "name": "stdout"
        }
      ]
    },
    {
      "cell_type": "code",
      "metadata": {
        "colab": {
          "base_uri": "https://localhost:8080/"
        },
        "id": "ChhJEUQiOIA8",
        "outputId": "eeb6e166-3eaa-4f8b-8f67-5a121a2ae982"
      },
      "source": [
        "name = \"Hacktiv8\"\n",
        "Age = 54\n",
        "has_laptops = True\n",
        "print(name, Age, has_laptops)"
      ],
      "execution_count": 14,
      "outputs": [
        {
          "output_type": "stream",
          "text": [
            "Hacktiv8 54 True\n"
          ],
          "name": "stdout"
        }
      ]
    },
    {
      "cell_type": "code",
      "metadata": {
        "colab": {
          "base_uri": "https://localhost:8080/",
          "height": 130
        },
        "id": "m4VPd5ZMRTOk",
        "outputId": "f701cbd6-5855-474c-f169-b4dc64fad31e"
      },
      "source": [
        "\n",
        "9_kepala_naga = True"
      ],
      "execution_count": 15,
      "outputs": [
        {
          "output_type": "error",
          "ename": "SyntaxError",
          "evalue": "ignored",
          "traceback": [
            "\u001b[0;36m  File \u001b[0;32m\"<ipython-input-15-c6143809bd53>\"\u001b[0;36m, line \u001b[0;32m2\u001b[0m\n\u001b[0;31m    9_kepala_naga = True\u001b[0m\n\u001b[0m     ^\u001b[0m\n\u001b[0;31mSyntaxError\u001b[0m\u001b[0;31m:\u001b[0m invalid token\n"
          ]
        }
      ]
    },
    {
      "cell_type": "code",
      "metadata": {
        "colab": {
          "base_uri": "https://localhost:8080/"
        },
        "id": "85gwrn0dRTX5",
        "outputId": "7c7e2249-197d-4d70-e3af-284df736b322"
      },
      "source": [
        "age = 1\n",
        "Age = 2\n",
        "aGe = 3\n",
        "AGE = 4\n",
        "a_g_e = 5\n",
        "_age = 6\n",
        "age_ = 7\n",
        "_AGE_ = 8\n",
        "\n",
        "print(age, Age, aGe, AGE, a_g_e, _age, age_, _AGE_)"
      ],
      "execution_count": 16,
      "outputs": [
        {
          "output_type": "stream",
          "text": [
            "1 2 3 4 5 6 7 8\n"
          ],
          "name": "stdout"
        }
      ]
    },
    {
      "cell_type": "code",
      "metadata": {
        "colab": {
          "base_uri": "https://localhost:8080/"
        },
        "id": "P3XTlsDhRg8o",
        "outputId": "4eb830fc-23e0-4f2e-9568-b4415228d95e"
      },
      "source": [
        "a = 10\n",
        "b = 20\n",
        "a + b\n"
      ],
      "execution_count": 17,
      "outputs": [
        {
          "output_type": "execute_result",
          "data": {
            "text/plain": [
              "30"
            ]
          },
          "metadata": {
            "tags": []
          },
          "execution_count": 17
        }
      ]
    },
    {
      "cell_type": "code",
      "metadata": {
        "colab": {
          "base_uri": "https://localhost:8080/"
        },
        "id": "nYRMupLORg_b",
        "outputId": "e21979d8-82d7-4d39-ca0e-08299533d923"
      },
      "source": [
        "a = 10\n",
        "b = 20\n",
        "a + b - 5"
      ],
      "execution_count": 18,
      "outputs": [
        {
          "output_type": "execute_result",
          "data": {
            "text/plain": [
              "25"
            ]
          },
          "metadata": {
            "tags": []
          },
          "execution_count": 18
        }
      ]
    },
    {
      "cell_type": "markdown",
      "metadata": {
        "id": "M0llKBe3Rw_L"
      },
      "source": [
        "Arithmetic "
      ]
    },
    {
      "cell_type": "code",
      "metadata": {
        "colab": {
          "base_uri": "https://localhost:8080/"
        },
        "id": "5y-vMR0rRsEC",
        "outputId": "d0a99746-b13f-48fb-acf3-56ca822a0f5f"
      },
      "source": [
        "\n",
        "# Here are some examples of these operators in use:\n",
        "\n",
        "a = 4\n",
        "b = 3\n",
        "\n",
        "print(a + b)\n",
        "print(a - b)\n",
        "print(a * b)\n",
        "print(a / b)\n",
        "print(a % b)\n",
        "print(a ** b)"
      ],
      "execution_count": 19,
      "outputs": [
        {
          "output_type": "stream",
          "text": [
            "7\n",
            "1\n",
            "12\n",
            "1.3333333333333333\n",
            "1\n",
            "64\n"
          ],
          "name": "stdout"
        }
      ]
    },
    {
      "cell_type": "code",
      "metadata": {
        "colab": {
          "base_uri": "https://localhost:8080/"
        },
        "id": "NvHAFvmvRsL5",
        "outputId": "7a2a0edb-78cc-4ada-9e65-ac77c9f5f8d3"
      },
      "source": [
        "\n",
        "# The result of standard division (/) is always a float, even if the dividend is evenly divisible by the divisor:\n",
        "\n",
        "10 / 5"
      ],
      "execution_count": 20,
      "outputs": [
        {
          "output_type": "execute_result",
          "data": {
            "text/plain": [
              "2.0"
            ]
          },
          "metadata": {
            "tags": []
          },
          "execution_count": 20
        }
      ]
    },
    {
      "cell_type": "code",
      "metadata": {
        "colab": {
          "base_uri": "https://localhost:8080/"
        },
        "id": "ZO4YLCeLR4AC",
        "outputId": "ba28b655-b1c0-49e8-9f13-aae3fdd2b018"
      },
      "source": [
        "# Here are examples of the comparison operators in use:\n",
        "\n",
        "a = 10\n",
        "b = 20\n",
        "print(a == b)\n",
        "\n",
        "print(a != b)\n",
        "\n",
        "print(a <= b)\n",
        "\n",
        "print(a >= b)\n",
        "\n",
        "\n",
        "a = 30\n",
        "b = 30\n",
        "print(a == b)\n",
        "\n",
        "print(a <= b)\n",
        "\n",
        "print(a >= b)"
      ],
      "execution_count": 21,
      "outputs": [
        {
          "output_type": "stream",
          "text": [
            "False\n",
            "True\n",
            "True\n",
            "False\n",
            "True\n",
            "True\n",
            "True\n"
          ],
          "name": "stdout"
        }
      ]
    },
    {
      "cell_type": "markdown",
      "metadata": {
        "id": "X-tLhH6DSBPT"
      },
      "source": [
        "String Manipulation "
      ]
    },
    {
      "cell_type": "code",
      "metadata": {
        "colab": {
          "base_uri": "https://localhost:8080/"
        },
        "id": "GAGgMjbMR4EV",
        "outputId": "3b916ef6-95af-48b2-801b-4b567f89cfbc"
      },
      "source": [
        "\n",
        "# + Operators\n",
        "s = 'foo'\n",
        "t = 'bar'\n",
        "u = 'baz'\n",
        "\n",
        "print(s + t)\n",
        "\n",
        "print(s + t + u)\n",
        "\n",
        "\n",
        "print('Hacktiv8 ' + 'PTP')"
      ],
      "execution_count": 22,
      "outputs": [
        {
          "output_type": "stream",
          "text": [
            "foobar\n",
            "foobarbaz\n",
            "Hacktiv8 PTP\n"
          ],
          "name": "stdout"
        }
      ]
    },
    {
      "cell_type": "code",
      "metadata": {
        "colab": {
          "base_uri": "https://localhost:8080/",
          "height": 35
        },
        "id": "4uxh8hoaSD8x",
        "outputId": "908d7269-a2bb-462e-9dd5-facad89944c0"
      },
      "source": [
        "\n",
        "# * Operators\n",
        "\n",
        "s = 'foo.'\n",
        "\n",
        "s * 4"
      ],
      "execution_count": 23,
      "outputs": [
        {
          "output_type": "execute_result",
          "data": {
            "application/vnd.google.colaboratory.intrinsic+json": {
              "type": "string"
            },
            "text/plain": [
              "'foo.foo.foo.foo.'"
            ]
          },
          "metadata": {
            "tags": []
          },
          "execution_count": 23
        }
      ]
    },
    {
      "cell_type": "code",
      "metadata": {
        "colab": {
          "base_uri": "https://localhost:8080/"
        },
        "id": "2vI3gHIpSITd",
        "outputId": "e6e62aa0-a114-4033-a7fb-eceefee61a94"
      },
      "source": [
        "\n",
        "# in Operators\n",
        "\n",
        "s = 'foo'\n",
        "\n",
        "print(s in 'That food for us')\n",
        "\n",
        "print(s in 'That good for us')"
      ],
      "execution_count": 24,
      "outputs": [
        {
          "output_type": "stream",
          "text": [
            "True\n",
            "False\n"
          ],
          "name": "stdout"
        }
      ]
    },
    {
      "cell_type": "code",
      "metadata": {
        "colab": {
          "base_uri": "https://localhost:8080/"
        },
        "id": "Og9pKGEaSED_",
        "outputId": "ac80cd06-986e-4fbe-f1b4-1fe3ed60ba18"
      },
      "source": [
        "\n",
        "# Case Conversion\n",
        "s = 'HackTIV8'\n",
        "\n",
        "# Capitalize\n",
        "print(s.capitalize())\n",
        "\n",
        "# Lower\n",
        "print(s.lower())\n",
        "\n",
        "# Swapcase\n",
        "print(s.swapcase())\n",
        "\n",
        "# Title\n",
        "print(s.title())\n",
        "\n",
        "# Uppercase\n",
        "print(s.upper())"
      ],
      "execution_count": 25,
      "outputs": [
        {
          "output_type": "stream",
          "text": [
            "Hacktiv8\n",
            "hacktiv8\n",
            "hACKtiv8\n",
            "Hacktiv8\n",
            "HACKTIV8\n"
          ],
          "name": "stdout"
        }
      ]
    },
    {
      "cell_type": "markdown",
      "metadata": {
        "id": "zPii1CTRSW7-"
      },
      "source": [
        "Python List"
      ]
    },
    {
      "cell_type": "code",
      "metadata": {
        "colab": {
          "base_uri": "https://localhost:8080/"
        },
        "id": "CYAGiJOQSQo9",
        "outputId": "208cd0d2-2df1-471d-d2a5-d3bb9b95e9ea"
      },
      "source": [
        "a = ['foo', 'bar', 'baz', 'qux']\n",
        "\n",
        "print(a)"
      ],
      "execution_count": 26,
      "outputs": [
        {
          "output_type": "stream",
          "text": [
            "['foo', 'bar', 'baz', 'qux']\n"
          ],
          "name": "stdout"
        }
      ]
    },
    {
      "cell_type": "code",
      "metadata": {
        "colab": {
          "base_uri": "https://localhost:8080/"
        },
        "id": "Xuj5OIizScM9",
        "outputId": "1f6e6c38-0983-4763-fd92-634e0418eddf"
      },
      "source": [
        "a = ['foo', 'bar', 'baz', 'qux']\n",
        "b = ['baz', 'qux', 'bar', 'foo']\n",
        "\n",
        "a == b"
      ],
      "execution_count": 27,
      "outputs": [
        {
          "output_type": "execute_result",
          "data": {
            "text/plain": [
              "False"
            ]
          },
          "metadata": {
            "tags": []
          },
          "execution_count": 27
        }
      ]
    },
    {
      "cell_type": "code",
      "metadata": {
        "colab": {
          "base_uri": "https://localhost:8080/"
        },
        "id": "RNdpdEQZScVq",
        "outputId": "3c745d3c-47b5-4b36-cb78-d6b05d514cc4"
      },
      "source": [
        "a = [21.42, 'foobar', 3, 4, 'bark', False, 3.14159]\n",
        "\n",
        "print(a)"
      ],
      "execution_count": 28,
      "outputs": [
        {
          "output_type": "stream",
          "text": [
            "[21.42, 'foobar', 3, 4, 'bark', False, 3.14159]\n"
          ],
          "name": "stdout"
        }
      ]
    },
    {
      "cell_type": "code",
      "metadata": {
        "id": "sG06EE4PSjCw"
      },
      "source": [
        "a = ['foo', 'bar', 'baz', 'qux', 'quux', 'corge']"
      ],
      "execution_count": 29,
      "outputs": []
    },
    {
      "cell_type": "code",
      "metadata": {
        "colab": {
          "base_uri": "https://localhost:8080/"
        },
        "id": "22TCC_amSuUF",
        "outputId": "15b62f67-40cb-41de-e1c4-844d345c877f"
      },
      "source": [
        "print(a[-1])\n",
        "print(a[-6])"
      ],
      "execution_count": 30,
      "outputs": [
        {
          "output_type": "stream",
          "text": [
            "corge\n",
            "foo\n"
          ],
          "name": "stdout"
        }
      ]
    },
    {
      "cell_type": "code",
      "metadata": {
        "colab": {
          "base_uri": "https://localhost:8080/"
        },
        "id": "Vzz-n6ftSjIt",
        "outputId": "0fd03c60-51c2-4254-d941-2d574fc7654d"
      },
      "source": [
        "a = ['foo', 'bar', 'baz', 'qux', 'quux', 'corge']\n",
        "\n",
        "a[2:5]"
      ],
      "execution_count": 31,
      "outputs": [
        {
          "output_type": "execute_result",
          "data": {
            "text/plain": [
              "['baz', 'qux', 'quux']"
            ]
          },
          "metadata": {
            "tags": []
          },
          "execution_count": 31
        }
      ]
    },
    {
      "cell_type": "code",
      "metadata": {
        "colab": {
          "base_uri": "https://localhost:8080/"
        },
        "id": "YFxuhKA6fh19",
        "outputId": "f43a2698-8a2c-4b95-db53-0cd63b38ad41"
      },
      "source": [
        "\n",
        "# The concatenation (+) and replication (*) operators:\n",
        "\n",
        "print(a)\n",
        "\n",
        "print(a + ['grault', 'garply'])\n",
        "print(a * 2)"
      ],
      "execution_count": 32,
      "outputs": [
        {
          "output_type": "stream",
          "text": [
            "['foo', 'bar', 'baz', 'qux', 'quux', 'corge']\n",
            "['foo', 'bar', 'baz', 'qux', 'quux', 'corge', 'grault', 'garply']\n",
            "['foo', 'bar', 'baz', 'qux', 'quux', 'corge', 'foo', 'bar', 'baz', 'qux', 'quux', 'corge']\n"
          ],
          "name": "stdout"
        }
      ]
    },
    {
      "cell_type": "code",
      "metadata": {
        "colab": {
          "base_uri": "https://localhost:8080/"
        },
        "id": "E97kPaeSfkht",
        "outputId": "a504ccb9-bfb9-468b-ec23-c0b43e137f7c"
      },
      "source": [
        "# len(), min(), max()\n",
        "\n",
        "print(a)\n",
        "\n",
        "print(len(a))\n",
        "print(min(a))\n",
        "print(max(a))"
      ],
      "execution_count": 33,
      "outputs": [
        {
          "output_type": "stream",
          "text": [
            "['foo', 'bar', 'baz', 'qux', 'quux', 'corge']\n",
            "6\n",
            "bar\n",
            "qux\n"
          ],
          "name": "stdout"
        }
      ]
    },
    {
      "cell_type": "code",
      "metadata": {
        "colab": {
          "base_uri": "https://localhost:8080/"
        },
        "id": "fWPx9fI5fnk2",
        "outputId": "2aec31fa-f6ed-46f0-9340-1dad2a2798cf"
      },
      "source": [
        "a = ['foo', 'bar', 'baz', 'qux', 'quux', 'corge']\n",
        "\n",
        "print(a)\n",
        "\n",
        "a[2] = 10\n",
        "a[-1] = 20\n",
        "\n",
        "print(a)"
      ],
      "execution_count": 34,
      "outputs": [
        {
          "output_type": "stream",
          "text": [
            "['foo', 'bar', 'baz', 'qux', 'quux', 'corge']\n",
            "['foo', 'bar', 10, 'qux', 'quux', 20]\n"
          ],
          "name": "stdout"
        }
      ]
    },
    {
      "cell_type": "code",
      "metadata": {
        "id": "HATZEWkWfnuA"
      },
      "source": [
        "\n",
        "\n",
        "# A list item can be deleted with the del command:\n",
        "\n",
        "del a[3]"
      ],
      "execution_count": 35,
      "outputs": []
    },
    {
      "cell_type": "code",
      "metadata": {
        "colab": {
          "base_uri": "https://localhost:8080/"
        },
        "id": "i4jkdIXofrLd",
        "outputId": "caeba02a-5abd-42cf-cd34-7e0f9e39a40f"
      },
      "source": [
        "print(a)"
      ],
      "execution_count": 36,
      "outputs": [
        {
          "output_type": "stream",
          "text": [
            "['foo', 'bar', 10, 'quux', 20]\n"
          ],
          "name": "stdout"
        }
      ]
    },
    {
      "cell_type": "code",
      "metadata": {
        "colab": {
          "base_uri": "https://localhost:8080/"
        },
        "id": "1mh5WNEffrdM",
        "outputId": "df17330a-f7d5-4f77-c24d-f90d617b6799"
      },
      "source": [
        "a = ['foo', 'bar', 'baz', 'qux', 'quux', 'corge']\n",
        "\n",
        "print(a[1:4])\n",
        "\n",
        "a[1:4] = [1.1, 2.2, 3.3, 4.4, 5.5]\n",
        "\n",
        "print(a)"
      ],
      "execution_count": 37,
      "outputs": [
        {
          "output_type": "stream",
          "text": [
            "['bar', 'baz', 'qux']\n",
            "['foo', 1.1, 2.2, 3.3, 4.4, 5.5, 'quux', 'corge']\n"
          ],
          "name": "stdout"
        }
      ]
    },
    {
      "cell_type": "code",
      "metadata": {
        "colab": {
          "base_uri": "https://localhost:8080/"
        },
        "id": "YuNJFJWyfrjO",
        "outputId": "9182a05d-ec50-4d0b-caa1-e2d45733ddf5"
      },
      "source": [
        "t = ('foo', 'bar', 'baz', 'qux', 'quux', 'corge')\n",
        "\n",
        "print(t)"
      ],
      "execution_count": 38,
      "outputs": [
        {
          "output_type": "stream",
          "text": [
            "('foo', 'bar', 'baz', 'qux', 'quux', 'corge')\n"
          ],
          "name": "stdout"
        }
      ]
    },
    {
      "cell_type": "code",
      "metadata": {
        "colab": {
          "base_uri": "https://localhost:8080/"
        },
        "id": "jDl1Kf1ofnz7",
        "outputId": "3b1da2d5-f3df-4a03-84b0-058ef79f2fd1"
      },
      "source": [
        "print(t[0])\n",
        "\n",
        "print(t[-1])"
      ],
      "execution_count": 39,
      "outputs": [
        {
          "output_type": "stream",
          "text": [
            "foo\n",
            "corge\n"
          ],
          "name": "stdout"
        }
      ]
    },
    {
      "cell_type": "code",
      "metadata": {
        "colab": {
          "base_uri": "https://localhost:8080/",
          "height": 35
        },
        "id": "t96aaYLbf3Za",
        "outputId": "f3a4002f-b0ba-4e0c-d601-220d62db4514"
      },
      "source": [
        "\n",
        "# packing and unpacking\n",
        "\n",
        "(s1, s2, s3, s4) = ('foo', 'bar', 'baz', 'qux')\n",
        "\n",
        "s1"
      ],
      "execution_count": 40,
      "outputs": [
        {
          "output_type": "execute_result",
          "data": {
            "application/vnd.google.colaboratory.intrinsic+json": {
              "type": "string"
            },
            "text/plain": [
              "'foo'"
            ]
          },
          "metadata": {
            "tags": []
          },
          "execution_count": 40
        }
      ]
    },
    {
      "cell_type": "code",
      "metadata": {
        "id": "TEM8y-mSf3d4"
      },
      "source": [
        "MLB_team = {\n",
        "    'Colorado': 'Rockies',\n",
        "    'Boston': 'Red Sox',\n",
        "    'Minnesota': 'Twins',\n",
        "    'Milwaukee': 'Brewers',\n",
        "    'Seattle': 'Mariners'\n",
        "}"
      ],
      "execution_count": 41,
      "outputs": []
    },
    {
      "cell_type": "code",
      "metadata": {
        "colab": {
          "base_uri": "https://localhost:8080/"
        },
        "id": "XIJYiQuKgHFW",
        "outputId": "1574cd24-dc7d-4356-cb73-10c26dae8de9"
      },
      "source": [
        "print(MLB_team['Minnesota'])\n",
        "print(MLB_team['Colorado'])\n",
        "\n",
        "# error\n",
        "# MLB_team['Toronto']"
      ],
      "execution_count": 42,
      "outputs": [
        {
          "output_type": "stream",
          "text": [
            "Twins\n",
            "Rockies\n"
          ],
          "name": "stdout"
        }
      ]
    },
    {
      "cell_type": "code",
      "metadata": {
        "colab": {
          "base_uri": "https://localhost:8080/"
        },
        "id": "1scaRZM4gHIz",
        "outputId": "07ad9b5a-e871-4968-d1de-6ea2a46096ce"
      },
      "source": [
        "\n",
        "#Adding an entry to an existing dictionary is simply a matter of assigning a new key and value:\n",
        "\n",
        "MLB_team['Kansas City'] = 'Royals'\n",
        "MLB_team"
      ],
      "execution_count": 43,
      "outputs": [
        {
          "output_type": "execute_result",
          "data": {
            "text/plain": [
              "{'Boston': 'Red Sox',\n",
              " 'Colorado': 'Rockies',\n",
              " 'Kansas City': 'Royals',\n",
              " 'Milwaukee': 'Brewers',\n",
              " 'Minnesota': 'Twins',\n",
              " 'Seattle': 'Mariners'}"
            ]
          },
          "metadata": {
            "tags": []
          },
          "execution_count": 43
        }
      ]
    },
    {
      "cell_type": "code",
      "metadata": {
        "colab": {
          "base_uri": "https://localhost:8080/"
        },
        "id": "WMIJm1-7gMgg",
        "outputId": "5317cf62-3567-4786-82ab-907a20b7e06d"
      },
      "source": [
        "\n",
        "# If you want to update an entry, you can just assign a new value to an existing key:\n",
        "\n",
        "MLB_team['Seattle'] = 'Seahawks'\n",
        "MLB_team"
      ],
      "execution_count": 44,
      "outputs": [
        {
          "output_type": "execute_result",
          "data": {
            "text/plain": [
              "{'Boston': 'Red Sox',\n",
              " 'Colorado': 'Rockies',\n",
              " 'Kansas City': 'Royals',\n",
              " 'Milwaukee': 'Brewers',\n",
              " 'Minnesota': 'Twins',\n",
              " 'Seattle': 'Seahawks'}"
            ]
          },
          "metadata": {
            "tags": []
          },
          "execution_count": 44
        }
      ]
    },
    {
      "cell_type": "code",
      "metadata": {
        "colab": {
          "base_uri": "https://localhost:8080/"
        },
        "id": "mEfMadv1gMkC",
        "outputId": "6e80469d-3e56-4363-f2af-748cf9988b13"
      },
      "source": [
        "\n",
        "# To delete an entry, use the del statement, specifying the key to delete:\n",
        "\n",
        "del MLB_team['Seattle']\n",
        "MLB_team"
      ],
      "execution_count": 45,
      "outputs": [
        {
          "output_type": "execute_result",
          "data": {
            "text/plain": [
              "{'Boston': 'Red Sox',\n",
              " 'Colorado': 'Rockies',\n",
              " 'Kansas City': 'Royals',\n",
              " 'Milwaukee': 'Brewers',\n",
              " 'Minnesota': 'Twins'}"
            ]
          },
          "metadata": {
            "tags": []
          },
          "execution_count": 45
        }
      ]
    },
    {
      "cell_type": "code",
      "metadata": {
        "id": "N32TTnKcgT_L"
      },
      "source": [
        "person = {}\n",
        "type(person)\n",
        "\n",
        "person['fname'] = 'Hack'\n",
        "person['lname'] = 'PTP'\n",
        "person['age'] = 51\n",
        "person['spouse'] = 'Edna'\n",
        "person['children'] = ['Ralph', 'Betty', 'Joey']\n",
        "person['pets'] = {'dog': 'Fido', 'cat': 'Sox'}"
      ],
      "execution_count": 46,
      "outputs": []
    },
    {
      "cell_type": "code",
      "metadata": {
        "colab": {
          "base_uri": "https://localhost:8080/"
        },
        "id": "SCUYeDJJgUFd",
        "outputId": "d54163a4-5ead-453a-d8b1-ebf23b54264e"
      },
      "source": [
        "person"
      ],
      "execution_count": 47,
      "outputs": [
        {
          "output_type": "execute_result",
          "data": {
            "text/plain": [
              "{'age': 51,\n",
              " 'children': ['Ralph', 'Betty', 'Joey'],\n",
              " 'fname': 'Hack',\n",
              " 'lname': 'PTP',\n",
              " 'pets': {'cat': 'Sox', 'dog': 'Fido'},\n",
              " 'spouse': 'Edna'}"
            ]
          },
          "metadata": {
            "tags": []
          },
          "execution_count": 47
        }
      ]
    },
    {
      "cell_type": "code",
      "metadata": {
        "id": "SntsjeIHgbpB"
      },
      "source": [
        ""
      ],
      "execution_count": null,
      "outputs": []
    }
  ]
}
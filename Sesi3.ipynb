{
 "cells": [
  {
   "cell_type": "markdown",
   "metadata": {},
   "source": [
    "# Hacktiv8 Python for Data Science - Sesi 3\n",
    "\n",
    "- Function\n",
    "- Module\n",
    "- Packages"
   ]
  },
  {
   "cell_type": "markdown",
   "metadata": {},
   "source": [
    "## Function blok kode"
   ]
  },
  {
   "cell_type": "code",
   "execution_count": 18,
   "metadata": {},
   "outputs": [],
   "source": [
    "# Defining Function\n",
    "def my_function():          #function dev dg function nya bernama my_function\n",
    "    \"This function print a String\"\n",
    "    print(\"Hello from a function\") #statment nya "
   ]
  },
  {
   "cell_type": "code",
   "execution_count": 19,
   "metadata": {},
   "outputs": [
    {
     "output_type": "stream",
     "name": "stdout",
     "text": [
      "Hello from a function\n"
     ]
    }
   ],
   "source": [
    "# Calling a Function\n",
    "my_function()"
   ]
  },
  {
   "cell_type": "code",
   "execution_count": 21,
   "metadata": {},
   "outputs": [],
   "source": [
    "# function print_me dg parameter nama\n",
    "def print_me(nama):\n",
    "    \"This function pass input to params nama\"\n",
    "    print(nama)"
   ]
  },
  {
   "cell_type": "code",
   "execution_count": 23,
   "metadata": {},
   "outputs": [
    {
     "output_type": "stream",
     "name": "stdout",
     "text": [
      "Hacktiv AXA\n"
     ]
    }
   ],
   "source": [
    "print_me('Hacktiv AXA')"
   ]
  },
  {
   "cell_type": "code",
   "execution_count": 24,
   "metadata": {},
   "outputs": [
    {
     "output_type": "stream",
     "name": "stdout",
     "text": [
      "This is second sentence\n"
     ]
    }
   ],
   "source": [
    "print_me('This is second sentence')"
   ]
  },
  {
   "cell_type": "code",
   "execution_count": 7,
   "metadata": {},
   "outputs": [],
   "source": [
    "# Required parameter / argument \n",
    "def print_me(nama):\n",
    "    \"This function pass input to params nama\"\n",
    "    print(nama)"
   ]
  },
  {
   "cell_type": "code",
   "execution_count": 26,
   "metadata": {},
   "outputs": [
    {
     "output_type": "error",
     "ename": "TypeError",
     "evalue": "print_me() missing 1 required positional argument: 'nama'",
     "traceback": [
      "\u001b[0;31m---------------------------------------------------------------------------\u001b[0m",
      "\u001b[0;31mTypeError\u001b[0m                                 Traceback (most recent call last)",
      "\u001b[0;32m/var/folders/dg/v7_wfp5n65xbwvlc35v714rc0000gp/T/ipykernel_22385/2416050989.py\u001b[0m in \u001b[0;36m<module>\u001b[0;34m\u001b[0m\n\u001b[0;32m----> 1\u001b[0;31m \u001b[0mprint_me\u001b[0m\u001b[0;34m(\u001b[0m\u001b[0;34m)\u001b[0m\u001b[0;34m\u001b[0m\u001b[0;34m\u001b[0m\u001b[0m\n\u001b[0m",
      "\u001b[0;31mTypeError\u001b[0m: print_me() missing 1 required positional argument: 'nama'"
     ]
    }
   ],
   "source": [
    "print_me()"
   ]
  },
  {
   "cell_type": "code",
   "execution_count": 27,
   "metadata": {},
   "outputs": [
    {
     "output_type": "stream",
     "name": "stdout",
     "text": [
      "Hacktiv8\n"
     ]
    }
   ],
   "source": [
    "print_me(nama='Hacktiv8')"
   ]
  },
  {
   "cell_type": "code",
   "execution_count": null,
   "metadata": {},
   "outputs": [],
   "source": []
  },
  {
   "cell_type": "code",
   "execution_count": 28,
   "metadata": {},
   "outputs": [],
   "source": [
    "# Keyword Argument/parameter\n",
    "def printinfo(nama, umur):\n",
    "    \"This prints a passed info into this function\"\n",
    "    print('Nama: ', nama)\n",
    "    print('Umur: ', umur)"
   ]
  },
  {
   "cell_type": "code",
   "execution_count": 31,
   "metadata": {},
   "outputs": [
    {
     "output_type": "stream",
     "name": "stdout",
     "text": [
      "Nama:  tika\nUmur:  20\n"
     ]
    }
   ],
   "source": [
    "printinfo('tika', 20)"
   ]
  },
  {
   "cell_type": "code",
   "execution_count": 30,
   "metadata": {},
   "outputs": [
    {
     "output_type": "stream",
     "name": "stdout",
     "text": [
      "Nama:  acktiv8\nUmur:  18\n"
     ]
    }
   ],
   "source": [
    "#call random parameter\n",
    "printinfo(umur=18, nama='acktiv8')"
   ]
  },
  {
   "cell_type": "code",
   "execution_count": 32,
   "metadata": {},
   "outputs": [],
   "source": [
    "# Default Argument\n",
    "def printinfo(nama, umur=20):\n",
    "    \"This prints a passed info into this function\"\n",
    "    print('Nama: ', nama)\n",
    "    print('Umur: ', umur)"
   ]
  },
  {
   "cell_type": "code",
   "execution_count": 33,
   "metadata": {},
   "outputs": [
    {
     "output_type": "stream",
     "name": "stdout",
     "text": [
      "Nama:  Hacktiv8\nUmur:  18\n"
     ]
    }
   ],
   "source": [
    "#call out umur 10 nama hacktiv8\n",
    "printinfo(umur=18, nama='Hacktiv8')"
   ]
  },
  {
   "cell_type": "code",
   "execution_count": 34,
   "metadata": {},
   "outputs": [
    {
     "output_type": "stream",
     "name": "stdout",
     "text": [
      "Nama:  Hacktiv8\nUmur:  20\n"
     ]
    }
   ],
   "source": [
    "#call nama hacktiv8\n",
    "printinfo('Hacktiv8')"
   ]
  },
  {
   "cell_type": "code",
   "execution_count": 16,
   "metadata": {},
   "outputs": [
    {
     "name": "stdout",
     "output_type": "stream",
     "text": [
      "Nama:  Hacktiv8\n",
      "Umur:  20\n"
     ]
    }
   ],
   "source": [
    "printinfo(nama='Hacktiv8')"
   ]
  },
  {
   "cell_type": "code",
   "execution_count": 35,
   "metadata": {},
   "outputs": [
    {
     "output_type": "stream",
     "name": "stdout",
     "text": [
      "Nama:  Hacktiv8\nUmur:  38\n"
     ]
    }
   ],
   "source": [
    "printinfo('Hacktiv8', 38)"
   ]
  },
  {
   "cell_type": "code",
   "execution_count": 37,
   "metadata": {},
   "outputs": [],
   "source": [
    "## tipe data = string, float, int\n",
    "### type data > list, tuple, dict\n",
    "# Variable-length Argument\n",
    "\n",
    "def printinfo(angkapertama, *angkaselanjutnya):         #var agrument tuple dg ditantai *\n",
    "    \"This prints a variable passed arguments\"\n",
    "    print(\"Outputnya adalah:\")\n",
    "    print(angkapertama)\n",
    "    for angka in angkaselanjutnya:\n",
    "        print(angka)"
   ]
  },
  {
   "cell_type": "code",
   "execution_count": 38,
   "metadata": {},
   "outputs": [
    {
     "output_type": "stream",
     "name": "stdout",
     "text": [
      "Outputnya adalah:\n10\n"
     ]
    }
   ],
   "source": [
    "printinfo(10)"
   ]
  },
  {
   "cell_type": "code",
   "execution_count": 40,
   "metadata": {},
   "outputs": [
    {
     "output_type": "stream",
     "name": "stdout",
     "text": [
      "Outputnya adalah:\n10\n20\n30\n40\na\n"
     ]
    }
   ],
   "source": [
    "# call tuple parameter yg ada di input tuple, \n",
    "printinfo(10, 20, 30, 40, 'a')"
   ]
  },
  {
   "cell_type": "markdown",
   "metadata": {},
   "source": [
    "## Anonymous Function\n",
    "\n",
    "tidak di dekalasikan dengan def"
   ]
  },
  {
   "cell_type": "code",
   "execution_count": 41,
   "metadata": {},
   "outputs": [],
   "source": [
    "\n",
    "multiplication = lambda angka1, angka2: angka1 * angka2 #lamda keyword to create samll anonymous function form can take any number of arguments"
   ]
  },
  {
   "cell_type": "code",
   "execution_count": 42,
   "metadata": {},
   "outputs": [
    {
     "output_type": "execute_result",
     "data": {
      "text/plain": [
       "200"
      ]
     },
     "metadata": {},
     "execution_count": 42
    }
   ],
   "source": [
    "# call multiplication as function \n",
    "multiplication(10, 20)"
   ]
  },
  {
   "cell_type": "code",
   "execution_count": 43,
   "metadata": {},
   "outputs": [
    {
     "output_type": "stream",
     "name": "stdout",
     "text": [
      "Hasil Perkalian:  10\n"
     ]
    }
   ],
   "source": [
    "#call multiplication funct\n",
    "print(\"Hasil Perkalian: \", multiplication(5, 2))"
   ]
  },
  {
   "cell_type": "code",
   "execution_count": 44,
   "metadata": {},
   "outputs": [
    {
     "output_type": "stream",
     "name": "stdout",
     "text": [
      "total :  30\n"
     ]
    }
   ],
   "source": [
    "# again, fucntion definition are \n",
    "sum = lambda angka3, angka4: angka3 + angka4\n",
    "\n",
    "#call sum as function\n",
    "print(\"total : \", sum(10, 20))"
   ]
  },
  {
   "cell_type": "markdown",
   "metadata": {},
   "source": [
    "## Return Statement"
   ]
  },
  {
   "cell_type": "code",
   "execution_count": 45,
   "metadata": {},
   "outputs": [],
   "source": [
    "#define function\n",
    "def sum(angka1, angka2):\n",
    "    #add parameter and return\n",
    "    total = angka1 + angka2\n",
    "    total2 = total + 10\n",
    "    print('Inside Function: ', total)\n",
    "    return total2"
   ]
  },
  {
   "cell_type": "code",
   "execution_count": 46,
   "metadata": {},
   "outputs": [
    {
     "output_type": "stream",
     "name": "stdout",
     "text": [
      "Inside Function:  30\nOutside the Function:  40\n"
     ]
    }
   ],
   "source": [
    "#call sum function\n",
    "total = sum(10, 20)\n",
    "print('Outside the Function: ', total)"
   ]
  },
  {
   "cell_type": "code",
   "execution_count": 47,
   "metadata": {},
   "outputs": [
    {
     "output_type": "stream",
     "name": "stdout",
     "text": [
      "80\n"
     ]
    }
   ],
   "source": [
    "# fungsi menghitung luas \n",
    "def hitung_luas(p,l):           #funsi hitung_luas memiliki 2 parameter p dan l\n",
    "    return p *l                 #yang di return adalah p*l\n",
    "\n",
    "luas = hitung_luas(10, 8)       #fungsi hitung_luar menerima 2 parameter 10 dan 8, \n",
    "print(luas)                     # hasilnya 10*8 = 80"
   ]
  },
  {
   "cell_type": "code",
   "execution_count": 48,
   "metadata": {},
   "outputs": [
    {
     "output_type": "stream",
     "name": "stdout",
     "text": [
      "80\n81\n"
     ]
    }
   ],
   "source": [
    "#then, why should use function ???\n",
    "print(luas)\n",
    "luas2 = hitung_luas(9,9)        # menghitung luas lagi tinggal define parameter and call hitung_luas function\n",
    "print(luas2)\n",
    "\n",
    "## jadi function > memeberi nama blok code > implementasi> costum parameter  "
   ]
  },
  {
   "cell_type": "code",
   "execution_count": 49,
   "metadata": {},
   "outputs": [
    {
     "output_type": "stream",
     "name": "stdout",
     "text": [
      "Values inside the function:  [10, 20, 30, [1, 2, 3, 4]]\nValues outside the function:  [10, 20, 30, [1, 2, 3, 4]]\n"
     ]
    }
   ],
   "source": [
    "#pass by reference\n",
    "# Function definition is here\n",
    "def changeme( mylist ):\n",
    "   \"This changes a passed list into this function\"\n",
    "   mylist.append([1,2,3,4]);\n",
    "   print(\"Values inside the function: \", mylist)\n",
    "   return\n",
    "\n",
    "# Now you can call changeme function\n",
    "mylist = [10,20,30];\n",
    "changeme( mylist );\n",
    "print(\"Values outside the function: \", mylist)\n",
    "\n"
   ]
  },
  {
   "cell_type": "code",
   "execution_count": 50,
   "metadata": {},
   "outputs": [
    {
     "output_type": "stream",
     "name": "stdout",
     "text": [
      "['purple', 'red', 'blue', 'orange']\n['purple', 'red', 'blue', 'orange']\n"
     ]
    }
   ],
   "source": [
    "# another example list aja\n",
    "list_color =[\"purple\", \"red\", \"blue\"]\n",
    "\n",
    "list_color2= list_color\n",
    "list_color2.append(\"orange\")\n",
    "\n",
    "print(list_color)\n",
    "print(list_color2)"
   ]
  },
  {
   "cell_type": "code",
   "execution_count": 52,
   "metadata": {},
   "outputs": [
    {
     "output_type": "stream",
     "name": "stdout",
     "text": [
      "['purple', 'red', 'blue', 'orange', 'green', 'green']\n['purple', 'red', 'blue', 'orange', 'green', 'green']\n"
     ]
    }
   ],
   "source": [
    "#pass by ref\n",
    "\n",
    "def add_color(lc, color):\n",
    "    lc.append(color)\n",
    "    return lc\n",
    "\n",
    "add_color(list_color2, \"green\")\n",
    "\n",
    "print(list_color)\n",
    "print(list_color2)\n"
   ]
  },
  {
   "cell_type": "markdown",
   "metadata": {},
   "source": [
    "## Scope of Variable"
   ]
  },
  {
   "cell_type": "code",
   "execution_count": 53,
   "metadata": {},
   "outputs": [],
   "source": [
    "apel = 10 # Global Variable\n",
    "\n",
    "def jumlahApel():\n",
    "    apelKuning = 30 # Local Variable\n",
    "    totalApel = apel + apelKuning\n",
    "    print(\"Jumlah Apel adalah :\", totalApel)\n",
    "    \n",
    "def jumlahApelHijau():\n",
    "#     apelKuning = 40\n",
    "    apelHijau = 20 # Local Variable\n",
    "    totalApelHijau = apelHijau + apelKuning\n",
    "    print(\"Jumlah Apel Hijau: \", totalApelHijau)"
   ]
  },
  {
   "cell_type": "code",
   "execution_count": 49,
   "metadata": {},
   "outputs": [
    {
     "name": "stdout",
     "output_type": "stream",
     "text": [
      "Jumlah Apel adalah : 40\n"
     ]
    }
   ],
   "source": [
    "jumlahApel()"
   ]
  },
  {
   "cell_type": "code",
   "execution_count": 50,
   "metadata": {},
   "outputs": [
    {
     "ename": "NameError",
     "evalue": "name 'apelKuning' is not defined",
     "output_type": "error",
     "traceback": [
      "\u001b[0;31m---------------------------------------------------------------------------\u001b[0m",
      "\u001b[0;31mNameError\u001b[0m                                 Traceback (most recent call last)",
      "\u001b[0;32m<ipython-input-50-471b50b16367>\u001b[0m in \u001b[0;36m<module>\u001b[0;34m\u001b[0m\n\u001b[0;32m----> 1\u001b[0;31m \u001b[0mjumlahApelHijau\u001b[0m\u001b[0;34m(\u001b[0m\u001b[0;34m)\u001b[0m\u001b[0;34m\u001b[0m\u001b[0;34m\u001b[0m\u001b[0m\n\u001b[0m",
      "\u001b[0;32m<ipython-input-48-0cd0853013f9>\u001b[0m in \u001b[0;36mjumlahApelHijau\u001b[0;34m()\u001b[0m\n\u001b[1;32m      9\u001b[0m \u001b[0;31m#     apelKuning = 40\u001b[0m\u001b[0;34m\u001b[0m\u001b[0;34m\u001b[0m\u001b[0;34m\u001b[0m\u001b[0m\n\u001b[1;32m     10\u001b[0m     \u001b[0mapelHijau\u001b[0m \u001b[0;34m=\u001b[0m \u001b[0;36m20\u001b[0m \u001b[0;31m# Local Variable\u001b[0m\u001b[0;34m\u001b[0m\u001b[0;34m\u001b[0m\u001b[0m\n\u001b[0;32m---> 11\u001b[0;31m     \u001b[0mtotalApelHijau\u001b[0m \u001b[0;34m=\u001b[0m \u001b[0mapelHijau\u001b[0m \u001b[0;34m+\u001b[0m \u001b[0mapelKuning\u001b[0m\u001b[0;34m\u001b[0m\u001b[0;34m\u001b[0m\u001b[0m\n\u001b[0m\u001b[1;32m     12\u001b[0m     \u001b[0mprint\u001b[0m\u001b[0;34m(\u001b[0m\u001b[0;34m\"Jumlah Apel Hijau: \"\u001b[0m\u001b[0;34m,\u001b[0m \u001b[0mtotalApelHijau\u001b[0m\u001b[0;34m)\u001b[0m\u001b[0;34m\u001b[0m\u001b[0;34m\u001b[0m\u001b[0m\n",
      "\u001b[0;31mNameError\u001b[0m: name 'apelKuning' is not defined"
     ]
    }
   ],
   "source": [
    "jumlahApelHijau()"
   ]
  },
  {
   "cell_type": "code",
   "execution_count": 54,
   "metadata": {},
   "outputs": [
    {
     "output_type": "error",
     "ename": "UnboundLocalError",
     "evalue": "local variable 'message' referenced before assignment",
     "traceback": [
      "\u001b[0;31m---------------------------------------------------------------------------\u001b[0m",
      "\u001b[0;31mUnboundLocalError\u001b[0m                         Traceback (most recent call last)",
      "\u001b[0;32m/var/folders/dg/v7_wfp5n65xbwvlc35v714rc0000gp/T/ipykernel_22385/167510713.py\u001b[0m in \u001b[0;36m<module>\u001b[0;34m\u001b[0m\n\u001b[1;32m      5\u001b[0m     \u001b[0mmessage\u001b[0m \u001b[0;34m=\u001b[0m\u001b[0;34m\"semalat siang\"\u001b[0m\u001b[0;34m\u001b[0m\u001b[0;34m\u001b[0m\u001b[0m\n\u001b[1;32m      6\u001b[0m \u001b[0;34m\u001b[0m\u001b[0m\n\u001b[0;32m----> 7\u001b[0;31m \u001b[0mprintmsg\u001b[0m\u001b[0;34m(\u001b[0m\u001b[0;34m)\u001b[0m\u001b[0;34m\u001b[0m\u001b[0;34m\u001b[0m\u001b[0m\n\u001b[0m\u001b[1;32m      8\u001b[0m \u001b[0mprint\u001b[0m\u001b[0;34m(\u001b[0m\u001b[0mmessage\u001b[0m\u001b[0;34m)\u001b[0m\u001b[0;34m\u001b[0m\u001b[0;34m\u001b[0m\u001b[0m\n",
      "\u001b[0;32m/var/folders/dg/v7_wfp5n65xbwvlc35v714rc0000gp/T/ipykernel_22385/167510713.py\u001b[0m in \u001b[0;36mprintmsg\u001b[0;34m()\u001b[0m\n\u001b[1;32m      2\u001b[0m \u001b[0;34m\u001b[0m\u001b[0m\n\u001b[1;32m      3\u001b[0m \u001b[0;32mdef\u001b[0m \u001b[0mprintmsg\u001b[0m\u001b[0;34m(\u001b[0m\u001b[0;34m)\u001b[0m\u001b[0;34m:\u001b[0m\u001b[0;34m\u001b[0m\u001b[0;34m\u001b[0m\u001b[0m\n\u001b[0;32m----> 4\u001b[0;31m     \u001b[0mprint\u001b[0m\u001b[0;34m(\u001b[0m\u001b[0mmessage\u001b[0m\u001b[0;34m)\u001b[0m\u001b[0;34m\u001b[0m\u001b[0;34m\u001b[0m\u001b[0m\n\u001b[0m\u001b[1;32m      5\u001b[0m     \u001b[0mmessage\u001b[0m \u001b[0;34m=\u001b[0m\u001b[0;34m\"semalat siang\"\u001b[0m\u001b[0;34m\u001b[0m\u001b[0;34m\u001b[0m\u001b[0m\n\u001b[1;32m      6\u001b[0m \u001b[0;34m\u001b[0m\u001b[0m\n",
      "\u001b[0;31mUnboundLocalError\u001b[0m: local variable 'message' referenced before assignment"
     ]
    }
   ],
   "source": [
    "message = \"good morning from another side \"\n",
    "\n",
    "def printmsg():\n",
    "    print(message)\n",
    "    message =\"semalat siang\"\n",
    "\n",
    "printmsg()\n",
    "print(message)\n",
    "\n",
    "# error karena message local variable nya belum kita define, tapi sudah ada di gobla variable "
   ]
  },
  {
   "cell_type": "code",
   "execution_count": 57,
   "metadata": {},
   "outputs": [
    {
     "output_type": "stream",
     "name": "stdout",
     "text": [
      "semalat siang\ngood morning from another side \n"
     ]
    }
   ],
   "source": [
    " message = \"good morning from another side \"\n",
    "\n",
    "def printmsg():\n",
    "    message =\"semalat siang\"        # message as local variable \n",
    "    print(message)\n",
    "  #  message =\"semalat siang\"\n",
    "\n",
    "printmsg()\n",
    "print(message)"
   ]
  },
  {
   "cell_type": "code",
   "execution_count": 58,
   "metadata": {},
   "outputs": [
    {
     "output_type": "stream",
     "name": "stdout",
     "text": [
      "good morning from another side \ngood morning from another side \n"
     ]
    }
   ],
   "source": [
    " message = \"good morning from another side \"\n",
    "\n",
    "def printmsg():\n",
    "    print(message)\n",
    "  #  message =\"semalat siang\"\n",
    "\n",
    "printmsg()\n",
    "print(message)"
   ]
  },
  {
   "cell_type": "code",
   "execution_count": 59,
   "metadata": {},
   "outputs": [
    {
     "output_type": "stream",
     "name": "stdout",
     "text": [
      " salam , selamat  pagi\n salam , selamat  siang\n"
     ]
    }
   ],
   "source": [
    "def salam (waktu):\n",
    "    print(\" salam , selamat \", waktu)\n",
    "\n",
    "salam (\"pagi\")\n",
    "salam (\"siang\")"
   ]
  },
  {
   "cell_type": "markdown",
   "metadata": {},
   "source": [
    "## Module"
   ]
  },
  {
   "cell_type": "code",
   "execution_count": 60,
   "metadata": {},
   "outputs": [],
   "source": [
    "## pre\n",
    "import sys\n"
   ]
  },
  {
   "cell_type": "code",
   "execution_count": 61,
   "metadata": {},
   "outputs": [
    {
     "output_type": "execute_result",
     "data": {
      "text/plain": [
       "['/Users/prast/Documents/H8',\n",
       " '/Users/prast/.vscode/extensions/ms-toolsai.jupyter-2021.6.999662501/pythonFiles',\n",
       " '/Users/prast/.vscode/extensions/ms-toolsai.jupyter-2021.6.999662501/pythonFiles/lib/python',\n",
       " '/Library/Frameworks/Python.framework/Versions/3.7/lib/python37.zip',\n",
       " '/Library/Frameworks/Python.framework/Versions/3.7/lib/python3.7',\n",
       " '/Library/Frameworks/Python.framework/Versions/3.7/lib/python3.7/lib-dynload',\n",
       " '',\n",
       " '/Users/prast/Library/Python/3.7/lib/python/site-packages',\n",
       " '/Library/Frameworks/Python.framework/Versions/3.7/lib/python3.7/site-packages',\n",
       " '/Users/prast/Library/Python/3.7/lib/python/site-packages/IPython/extensions',\n",
       " '/Users/prast/.ipython']"
      ]
     },
     "metadata": {},
     "execution_count": 61
    }
   ],
   "source": [
    "## pre\n",
    "sys.path"
   ]
  },
  {
   "cell_type": "code",
   "execution_count": 3,
   "metadata": {},
   "outputs": [],
   "source": [
    " #import module ke dalam system kita \n",
    " sys.path.append(r'/Users/prast/Documents/H8')\n"
   ]
  },
  {
   "cell_type": "code",
   "execution_count": 68,
   "metadata": {},
   "outputs": [
    {
     "output_type": "execute_result",
     "data": {
      "text/plain": [
       "['/Users/prast/Documents/H8',\n",
       " '/Users/prast/.vscode/extensions/ms-toolsai.jupyter-2021.6.999662501/pythonFiles',\n",
       " '/Users/prast/.vscode/extensions/ms-toolsai.jupyter-2021.6.999662501/pythonFiles/lib/python',\n",
       " '/Library/Frameworks/Python.framework/Versions/3.7/lib/python37.zip',\n",
       " '/Library/Frameworks/Python.framework/Versions/3.7/lib/python3.7',\n",
       " '/Library/Frameworks/Python.framework/Versions/3.7/lib/python3.7/lib-dynload',\n",
       " '',\n",
       " '/Users/prast/Library/Python/3.7/lib/python/site-packages',\n",
       " '/Library/Frameworks/Python.framework/Versions/3.7/lib/python3.7/site-packages',\n",
       " '/Users/prast/Library/Python/3.7/lib/python/site-packages/IPython/extensions',\n",
       " '/Users/prast/.ipython']"
      ]
     },
     "metadata": {},
     "execution_count": 68
    }
   ],
   "source": [
    " sys.path"
   ]
  },
  {
   "cell_type": "code",
   "execution_count": 62,
   "metadata": {},
   "outputs": [],
   "source": [
    "# import module code. \n",
    "import mod"
   ]
  },
  {
   "cell_type": "code",
   "execution_count": 63,
   "metadata": {},
   "outputs": [
    {
     "output_type": "execute_result",
     "data": {
      "text/plain": [
       "'Hactiv8 Python for Data Science AXA mandiri'"
      ]
     },
     "metadata": {},
     "execution_count": 63
    }
   ],
   "source": [
    "mod.s"
   ]
  },
  {
   "cell_type": "code",
   "execution_count": 64,
   "metadata": {},
   "outputs": [
    {
     "output_type": "execute_result",
     "data": {
      "text/plain": [
       "[100, 200, 400, 300]"
      ]
     },
     "metadata": {},
     "execution_count": 64
    }
   ],
   "source": [
    "mod.a"
   ]
  },
  {
   "cell_type": "code",
   "execution_count": 65,
   "metadata": {},
   "outputs": [],
   "source": [
    "#import function dari dalam modul\n",
    "from mod import s, printme"
   ]
  },
  {
   "cell_type": "code",
   "execution_count": 66,
   "metadata": {},
   "outputs": [
    {
     "output_type": "execute_result",
     "data": {
      "text/plain": [
       "'Hactiv8 Python for Data Science AXA mandiri'"
      ]
     },
     "metadata": {},
     "execution_count": 66
    }
   ],
   "source": [
    "s"
   ]
  },
  {
   "cell_type": "code",
   "execution_count": 69,
   "metadata": {},
   "outputs": [
    {
     "output_type": "error",
     "ename": "NameError",
     "evalue": "name 'a' is not defined",
     "traceback": [
      "\u001b[0;31m---------------------------------------------------------------------------\u001b[0m",
      "\u001b[0;31mNameError\u001b[0m                                 Traceback (most recent call last)",
      "\u001b[0;32m/var/folders/dg/v7_wfp5n65xbwvlc35v714rc0000gp/T/ipykernel_22385/2167009006.py\u001b[0m in \u001b[0;36m<module>\u001b[0;34m\u001b[0m\n\u001b[0;32m----> 1\u001b[0;31m \u001b[0ma\u001b[0m\u001b[0;34m\u001b[0m\u001b[0;34m\u001b[0m\u001b[0m\n\u001b[0m",
      "\u001b[0;31mNameError\u001b[0m: name 'a' is not defined"
     ]
    }
   ],
   "source": [
    "\n",
    "a\n",
    "\n",
    "# import fungction nya blom di define di from mod import"
   ]
  },
  {
   "cell_type": "code",
   "execution_count": 70,
   "metadata": {},
   "outputs": [
    {
     "output_type": "stream",
     "name": "stdout",
     "text": [
      "From a Function\n"
     ]
    }
   ],
   "source": [
    "printme()"
   ]
  },
  {
   "cell_type": "code",
   "execution_count": 71,
   "metadata": {},
   "outputs": [],
   "source": [
    "\n",
    "\n",
    "from mod import *"
   ]
  },
  {
   "cell_type": "code",
   "execution_count": 72,
   "metadata": {},
   "outputs": [],
   "source": [
    "#rubah name di modul jadi stringnama\n",
    "from mod import s as stringNama"
   ]
  },
  {
   "cell_type": "code",
   "execution_count": 73,
   "metadata": {},
   "outputs": [
    {
     "output_type": "execute_result",
     "data": {
      "text/plain": [
       "'Hactiv8 Python for Data Science AXA mandiri'"
      ]
     },
     "metadata": {},
     "execution_count": 73
    }
   ],
   "source": [
    "stringNama"
   ]
  },
  {
   "cell_type": "code",
   "execution_count": 74,
   "metadata": {},
   "outputs": [],
   "source": [
    "import mod as moduleCustom"
   ]
  },
  {
   "cell_type": "code",
   "execution_count": 75,
   "metadata": {},
   "outputs": [
    {
     "output_type": "execute_result",
     "data": {
      "text/plain": [
       "'Hactiv8 Python for Data Science AXA mandiri'"
      ]
     },
     "metadata": {},
     "execution_count": 75
    }
   ],
   "source": [
    "moduleCustom.s"
   ]
  },
  {
   "cell_type": "code",
   "execution_count": 79,
   "metadata": {},
   "outputs": [
    {
     "output_type": "execute_result",
     "data": {
      "text/plain": [
       "['__builtins__',\n",
       " '__cached__',\n",
       " '__doc__',\n",
       " '__file__',\n",
       " '__loader__',\n",
       " '__name__',\n",
       " '__package__',\n",
       " '__spec__',\n",
       " 'a',\n",
       " 'printme',\n",
       " 's']"
      ]
     },
     "metadata": {},
     "execution_count": 79
    }
   ],
   "source": [
    "dir(mod)"
   ]
  },
  {
   "cell_type": "markdown",
   "metadata": {},
   "source": [
    "## Packages"
   ]
  },
  {
   "cell_type": "code",
   "execution_count": 1,
   "metadata": {},
   "outputs": [],
   "source": [
    "import pkg.mod1, pkg.mod2"
   ]
  },
  {
   "cell_type": "code",
   "execution_count": 2,
   "metadata": {},
   "outputs": [
    {
     "output_type": "error",
     "ename": "AttributeError",
     "evalue": "module 'pkg.mod1' has no attribute 'module1'",
     "traceback": [
      "\u001b[0;31m---------------------------------------------------------------------------\u001b[0m",
      "\u001b[0;31mAttributeError\u001b[0m                            Traceback (most recent call last)",
      "\u001b[0;32m/var/folders/dg/v7_wfp5n65xbwvlc35v714rc0000gp/T/ipykernel_46793/109948408.py\u001b[0m in \u001b[0;36m<module>\u001b[0;34m\u001b[0m\n\u001b[0;32m----> 1\u001b[0;31m \u001b[0mpkg\u001b[0m\u001b[0;34m.\u001b[0m\u001b[0mmod1\u001b[0m\u001b[0;34m.\u001b[0m\u001b[0mmodule1\u001b[0m\u001b[0;34m(\u001b[0m\u001b[0;34m)\u001b[0m\u001b[0;34m\u001b[0m\u001b[0;34m\u001b[0m\u001b[0m\n\u001b[0m",
      "\u001b[0;31mAttributeError\u001b[0m: module 'pkg.mod1' has no attribute 'module1'"
     ]
    }
   ],
   "source": [
    "pkg.mod1.module1()"
   ]
  },
  {
   "cell_type": "code",
   "execution_count": 3,
   "metadata": {},
   "outputs": [
    {
     "output_type": "execute_result",
     "data": {
      "text/plain": [
       "128"
      ]
     },
     "metadata": {},
     "execution_count": 3
    }
   ],
   "source": [
    "pkg.mod1.x"
   ]
  },
  {
   "cell_type": "code",
   "execution_count": 65,
   "metadata": {},
   "outputs": [
    {
     "name": "stdout",
     "output_type": "stream",
     "text": [
      "Dari Module 2\n"
     ]
    }
   ],
   "source": [
    "pkg.mod2.module2()"
   ]
  },
  {
   "cell_type": "code",
   "execution_count": 69,
   "metadata": {},
   "outputs": [],
   "source": [
    "import pkg"
   ]
  },
  {
   "cell_type": "code",
   "execution_count": 67,
   "metadata": {},
   "outputs": [],
   "source": [
    "from pkg import mod1"
   ]
  },
  {
   "cell_type": "code",
   "execution_count": 68,
   "metadata": {},
   "outputs": [],
   "source": [
    "from pkg.mod1 import module1"
   ]
  },
  {
   "cell_type": "markdown",
   "metadata": {},
   "source": [
    "## PIP"
   ]
  },
  {
   "cell_type": "code",
   "execution_count": 81,
   "metadata": {},
   "outputs": [
    {
     "output_type": "stream",
     "name": "stdout",
     "text": [
      "pip 20.2.4 from /Users/prast/opt/anaconda3/lib/python3.8/site-packages/pip (python 3.8)\n"
     ]
    }
   ],
   "source": [
    "!pip --version"
   ]
  },
  {
   "cell_type": "code",
   "execution_count": 6,
   "metadata": {},
   "outputs": [
    {
     "output_type": "stream",
     "name": "stdout",
     "text": [
      "Sesi2.ipynb Sesi3.ipynb \u001b[34m__pycache__\u001b[m\u001b[m mod.py      sesi1.ipynb\n"
     ]
    }
   ],
   "source": [
    "#check all files in our directory\n",
    "!ls"
   ]
  },
  {
   "cell_type": "code",
   "execution_count": 7,
   "metadata": {},
   "outputs": [
    {
     "output_type": "stream",
     "name": "stdout",
     "text": [
      "Collecting folium\n",
      "  Downloading folium-0.12.1-py2.py3-none-any.whl (94 kB)\n",
      "\u001b[K     |████████████████████████████████| 94 kB 1.8 MB/s \n",
      "\u001b[?25hCollecting branca>=0.3.0\n",
      "  Downloading branca-0.4.2-py3-none-any.whl (24 kB)\n",
      "Requirement already satisfied: numpy in /Users/prast/opt/anaconda3/lib/python3.8/site-packages (from folium) (1.19.2)\n",
      "Requirement already satisfied: jinja2>=2.9 in /Users/prast/opt/anaconda3/lib/python3.8/site-packages (from folium) (2.11.2)\n",
      "Requirement already satisfied: requests in /Users/prast/opt/anaconda3/lib/python3.8/site-packages (from folium) (2.24.0)\n",
      "Requirement already satisfied: MarkupSafe>=0.23 in /Users/prast/opt/anaconda3/lib/python3.8/site-packages (from jinja2>=2.9->folium) (1.1.1)\n",
      "Requirement already satisfied: chardet<4,>=3.0.2 in /Users/prast/opt/anaconda3/lib/python3.8/site-packages (from requests->folium) (3.0.4)\n",
      "Requirement already satisfied: idna<3,>=2.5 in /Users/prast/opt/anaconda3/lib/python3.8/site-packages (from requests->folium) (2.10)\n",
      "Requirement already satisfied: certifi>=2017.4.17 in /Users/prast/opt/anaconda3/lib/python3.8/site-packages (from requests->folium) (2020.6.20)\n",
      "Requirement already satisfied: urllib3!=1.25.0,!=1.25.1,<1.26,>=1.21.1 in /Users/prast/opt/anaconda3/lib/python3.8/site-packages (from requests->folium) (1.25.11)\n",
      "Installing collected packages: branca, folium\n",
      "Successfully installed branca-0.4.2 folium-0.12.1\n"
     ]
    }
   ],
   "source": [
    "#example : python ecosystem map package \n",
    "!pip install folium"
   ]
  },
  {
   "cell_type": "code",
   "execution_count": 83,
   "metadata": {},
   "outputs": [
    {
     "output_type": "stream",
     "name": "stdout",
     "text": [
      "Requirement already satisfied: pandas in /Users/prast/opt/anaconda3/lib/python3.8/site-packages (1.1.3)\n",
      "Requirement already satisfied: python-dateutil>=2.7.3 in /Users/prast/opt/anaconda3/lib/python3.8/site-packages (from pandas) (2.8.1)\n",
      "Requirement already satisfied: pytz>=2017.2 in /Users/prast/opt/anaconda3/lib/python3.8/site-packages (from pandas) (2020.1)\n",
      "Requirement already satisfied: numpy>=1.15.4 in /Users/prast/opt/anaconda3/lib/python3.8/site-packages (from pandas) (1.19.2)\n",
      "Requirement already satisfied: six>=1.5 in /Users/prast/opt/anaconda3/lib/python3.8/site-packages (from python-dateutil>=2.7.3->pandas) (1.15.0)\n"
     ]
    }
   ],
   "source": [
    "!pip install pandas"
   ]
  },
  {
   "cell_type": "code",
   "execution_count": 8,
   "metadata": {},
   "outputs": [],
   "source": [
    "import requests"
   ]
  },
  {
   "cell_type": "code",
   "execution_count": 84,
   "metadata": {},
   "outputs": [
    {
     "output_type": "stream",
     "name": "stdout",
     "text": [
      "Package                            Version\n",
      "---------------------------------- -------------------\n",
      "alabaster                          0.7.12\n",
      "anaconda-client                    1.7.2\n",
      "anaconda-navigator                 2.0.3\n",
      "anaconda-project                   0.8.3\n",
      "applaunchservices                  0.2.1\n",
      "appnope                            0.1.0\n",
      "appscript                          1.1.1\n",
      "argh                               0.26.2\n",
      "argon2-cffi                        20.1.0\n",
      "asn1crypto                         1.4.0\n",
      "astroid                            2.4.2\n",
      "astropy                            4.0.2\n",
      "async-generator                    1.10\n",
      "atomicwrites                       1.4.0\n",
      "attrs                              20.3.0\n",
      "autopep8                           1.5.4\n",
      "Babel                              2.8.1\n",
      "backcall                           0.2.0\n",
      "backports.functools-lru-cache      1.6.4\n",
      "backports.shutil-get-terminal-size 1.0.0\n",
      "backports.tempfile                 1.0\n",
      "backports.weakref                  1.0.post1\n",
      "beautifulsoup4                     4.9.3\n",
      "bitarray                           1.6.1\n",
      "bkcharts                           0.2\n",
      "bleach                             3.2.1\n",
      "bokeh                              2.2.3\n",
      "boto                               2.49.0\n",
      "Bottleneck                         1.3.2\n",
      "branca                             0.4.2\n",
      "brotlipy                           0.7.0\n",
      "certifi                            2020.6.20\n",
      "cffi                               1.14.3\n",
      "chardet                            3.0.4\n",
      "click                              7.1.2\n",
      "cloudpickle                        1.6.0\n",
      "clyent                             1.2.2\n",
      "colorama                           0.4.4\n",
      "conda                              4.10.1\n",
      "conda-build                        3.20.5\n",
      "conda-content-trust                0+unknown\n",
      "conda-package-handling             1.7.3\n",
      "conda-repo-cli                     1.0.4\n",
      "conda-token                        0.3.0\n",
      "conda-verify                       3.4.2\n",
      "contextlib2                        0.6.0.post1\n",
      "cryptography                       3.1.1\n",
      "cycler                             0.10.0\n",
      "Cython                             0.29.21\n",
      "cytoolz                            0.11.0\n",
      "dask                               2.30.0\n",
      "decorator                          4.4.2\n",
      "defusedxml                         0.6.0\n",
      "diff-match-patch                   20200713\n",
      "distributed                        2.30.1\n",
      "docutils                           0.16\n",
      "entrypoints                        0.3\n",
      "et-xmlfile                         1.0.1\n",
      "fastcache                          1.1.0\n",
      "filelock                           3.0.12\n",
      "flake8                             3.8.4\n",
      "Flask                              1.1.2\n",
      "folium                             0.12.1\n",
      "fsspec                             0.8.3\n",
      "future                             0.18.2\n",
      "gevent                             20.9.0\n",
      "glob2                              0.7\n",
      "gmpy2                              2.0.8\n",
      "greenlet                           0.4.17\n",
      "h5py                               2.10.0\n",
      "HeapDict                           1.0.1\n",
      "html5lib                           1.1\n",
      "idna                               2.10\n",
      "imageio                            2.9.0\n",
      "imagesize                          1.2.0\n",
      "importlib-metadata                 2.0.0\n",
      "iniconfig                          1.1.1\n",
      "intervaltree                       3.1.0\n",
      "ipykernel                          5.3.4\n",
      "ipython                            7.19.0\n",
      "ipython-genutils                   0.2.0\n",
      "ipywidgets                         7.5.1\n",
      "isort                              5.6.4\n",
      "itsdangerous                       1.1.0\n",
      "jdcal                              1.4.1\n",
      "jedi                               0.17.1\n",
      "Jinja2                             2.11.2\n",
      "joblib                             0.17.0\n",
      "json5                              0.9.5\n",
      "jsonschema                         3.2.0\n",
      "jupyter                            1.0.0\n",
      "jupyter-client                     6.1.7\n",
      "jupyter-console                    6.2.0\n",
      "jupyter-core                       4.6.3\n",
      "jupyterlab                         2.2.6\n",
      "jupyterlab-pygments                0.1.2\n",
      "jupyterlab-server                  1.2.0\n",
      "keyring                            21.4.0\n",
      "kiwisolver                         1.3.0\n",
      "lazy-object-proxy                  1.4.3\n",
      "libarchive-c                       2.9\n",
      "llvmlite                           0.34.0\n",
      "locket                             0.2.0\n",
      "lxml                               4.6.1\n",
      "MarkupSafe                         1.1.1\n",
      "matplotlib                         3.3.2\n",
      "mccabe                             0.6.1\n",
      "mistune                            0.8.4\n",
      "mkl-fft                            1.2.0\n",
      "mkl-random                         1.1.1\n",
      "mkl-service                        2.3.0\n",
      "mock                               4.0.2\n",
      "more-itertools                     8.6.0\n",
      "mpmath                             1.1.0\n",
      "msgpack                            1.0.0\n",
      "multipledispatch                   0.6.0\n",
      "navigator-updater                  0.2.1\n",
      "nbclient                           0.5.1\n",
      "nbconvert                          6.0.7\n",
      "nbformat                           5.0.8\n",
      "nest-asyncio                       1.4.2\n",
      "networkx                           2.5\n",
      "nltk                               3.5\n",
      "nose                               1.3.7\n",
      "notebook                           6.1.4\n",
      "numba                              0.51.2\n",
      "numexpr                            2.7.1\n",
      "numpy                              1.19.2\n",
      "numpydoc                           1.1.0\n",
      "olefile                            0.46\n",
      "openpyxl                           3.0.5\n",
      "packaging                          20.4\n",
      "pandas                             1.1.3\n",
      "pandocfilters                      1.4.3\n",
      "parso                              0.7.0\n",
      "partd                              1.1.0\n",
      "path                               15.0.0\n",
      "pathlib2                           2.3.5\n",
      "pathtools                          0.1.2\n",
      "patsy                              0.5.1\n",
      "pep8                               1.7.1\n",
      "pexpect                            4.8.0\n",
      "pickleshare                        0.7.5\n",
      "Pillow                             8.0.1\n",
      "pip                                20.2.4\n",
      "pkginfo                            1.6.1\n",
      "pluggy                             0.13.1\n",
      "ply                                3.11\n",
      "prometheus-client                  0.8.0\n",
      "prompt-toolkit                     3.0.8\n",
      "psutil                             5.7.2\n",
      "ptyprocess                         0.6.0\n",
      "py                                 1.9.0\n",
      "pycodestyle                        2.6.0\n",
      "pycosat                            0.6.3\n",
      "pycparser                          2.20\n",
      "pycurl                             7.43.0.6\n",
      "pydocstyle                         5.1.1\n",
      "pyflakes                           2.2.0\n",
      "Pygments                           2.7.2\n",
      "pylint                             2.6.0\n",
      "pyodbc                             4.0.0-unsupported\n",
      "pyOpenSSL                          19.1.0\n",
      "pyparsing                          2.4.7\n",
      "pyrsistent                         0.17.3\n",
      "PySocks                            1.7.1\n",
      "pytest                             0.0.0\n",
      "python-dateutil                    2.8.1\n",
      "python-jsonrpc-server              0.4.0\n",
      "python-language-server             0.35.1\n",
      "pytz                               2020.1\n",
      "PyWavelets                         1.1.1\n",
      "PyYAML                             5.3.1\n",
      "pyzmq                              19.0.2\n",
      "QDarkStyle                         2.8.1\n",
      "QtAwesome                          1.0.1\n",
      "qtconsole                          4.7.7\n",
      "QtPy                               1.9.0\n",
      "regex                              2020.10.15\n",
      "requests                           2.24.0\n",
      "rope                               0.18.0\n",
      "Rtree                              0.9.4\n",
      "ruamel-yaml                        0.15.87\n",
      "scikit-image                       0.17.2\n",
      "scikit-learn                       0.23.2\n",
      "scipy                              1.5.2\n",
      "seaborn                            0.11.0\n",
      "Send2Trash                         1.5.0\n",
      "setuptools                         50.3.1.post20201107\n",
      "simplegeneric                      0.8.1\n",
      "singledispatch                     3.4.0.3\n",
      "six                                1.15.0\n",
      "snowballstemmer                    2.0.0\n",
      "sortedcollections                  1.2.1\n",
      "sortedcontainers                   2.2.2\n",
      "soupsieve                          2.0.1\n",
      "Sphinx                             3.2.1\n",
      "sphinxcontrib-applehelp            1.0.2\n",
      "sphinxcontrib-devhelp              1.0.2\n",
      "sphinxcontrib-htmlhelp             1.0.3\n",
      "sphinxcontrib-jsmath               1.0.1\n",
      "sphinxcontrib-qthelp               1.0.3\n",
      "sphinxcontrib-serializinghtml      1.1.4\n",
      "sphinxcontrib-websupport           1.2.4\n",
      "spyder                             4.1.5\n",
      "spyder-kernels                     1.9.4\n",
      "SQLAlchemy                         1.3.20\n",
      "statsmodels                        0.12.0\n",
      "sympy                              1.6.2\n",
      "tables                             3.6.1\n",
      "tblib                              1.7.0\n",
      "terminado                          0.9.1\n",
      "testpath                           0.4.4\n",
      "threadpoolctl                      2.1.0\n",
      "tifffile                           2020.10.1\n",
      "toml                               0.10.1\n",
      "toolz                              0.11.1\n",
      "tornado                            6.0.4\n",
      "tqdm                               4.50.2\n",
      "traitlets                          5.0.5\n",
      "typing-extensions                  3.7.4.3\n",
      "ujson                              4.0.1\n",
      "unicodecsv                         0.14.1\n",
      "urllib3                            1.25.11\n",
      "watchdog                           0.10.3\n",
      "wcwidth                            0.2.5\n",
      "webencodings                       0.5.1\n",
      "Werkzeug                           1.0.1\n",
      "wheel                              0.35.1\n",
      "widgetsnbextension                 3.5.1\n",
      "wrapt                              1.11.2\n",
      "wurlitzer                          2.0.1\n",
      "xlrd                               1.2.0\n",
      "XlsxWriter                         1.3.7\n",
      "xlwings                            0.20.8\n",
      "xlwt                               1.3.0\n",
      "xmltodict                          0.12.0\n",
      "yapf                               0.30.0\n",
      "zict                               2.0.0\n",
      "zipp                               3.4.0\n",
      "zope.event                         4.5.0\n",
      "zope.interface                     5.1.2\n"
     ]
    }
   ],
   "source": [
    "!pip list"
   ]
  },
  {
   "cell_type": "code",
   "execution_count": 85,
   "metadata": {},
   "outputs": [
    {
     "output_type": "stream",
     "name": "stdout",
     "text": [
      "Name: folium\nVersion: 0.12.1\nSummary: Make beautiful maps with Leaflet.js & Python\nHome-page: https://github.com/python-visualization/folium\nAuthor: Rob Story\nAuthor-email: wrobstory@gmail.com\nLicense: MIT\nLocation: /Users/prast/opt/anaconda3/lib/python3.8/site-packages\nRequires: numpy, jinja2, requests, branca\nRequired-by: \n"
     ]
    }
   ],
   "source": [
    "!pip show folium"
   ]
  },
  {
   "cell_type": "code",
   "execution_count": 80,
   "metadata": {},
   "outputs": [],
   "source": [
    "!pip freeze > requirements.txt"
   ]
  },
  {
   "cell_type": "code",
   "execution_count": 81,
   "metadata": {},
   "outputs": [],
   "source": [
    "# pip install -r requirements.txt"
   ]
  },
  {
   "cell_type": "code",
   "execution_count": null,
   "metadata": {},
   "outputs": [],
   "source": [
    "!pip search web"
   ]
  },
  {
   "cell_type": "code",
   "execution_count": 83,
   "metadata": {},
   "outputs": [
    {
     "name": "stdout",
     "output_type": "stream",
     "text": [
      "Collecting package metadata (current_repodata.json): done\n",
      "Solving environment: done\n",
      "\n",
      "# All requested packages already installed.\n",
      "\n"
     ]
    }
   ],
   "source": [
    "!conda install numpy"
   ]
  },
  {
   "cell_type": "code",
   "execution_count": null,
   "metadata": {},
   "outputs": [],
   "source": []
  }
 ],
 "metadata": {
  "kernelspec": {
   "name": "python3",
   "display_name": "Python 3.7.4 64-bit"
  },
  "language_info": {
   "codemirror_mode": {
    "name": "ipython",
    "version": 3
   },
   "file_extension": ".py",
   "mimetype": "text/x-python",
   "name": "python",
   "nbconvert_exporter": "python",
   "pygments_lexer": "ipython3",
   "version": "3.7.4"
  },
  "interpreter": {
   "hash": "aee8b7b246df8f9039afb4144a1f6fd8d2ca17a180786b69acc140d282b71a49"
  }
 },
 "nbformat": 4,
 "nbformat_minor": 2
}